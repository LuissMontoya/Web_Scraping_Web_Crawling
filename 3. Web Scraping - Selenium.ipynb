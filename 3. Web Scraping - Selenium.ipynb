{
 "cells": [
  {
   "cell_type": "code",
   "execution_count": 9,
   "id": "7206820b",
   "metadata": {},
   "outputs": [
    {
     "name": "stdout",
     "output_type": "stream",
     "text": [
      "Requirement already satisfied: selenium in c:\\users\\root\\anaconda3\\lib\\site-packages (4.1.0)\n",
      "Requirement already satisfied: trio-websocket~=0.9 in c:\\users\\root\\anaconda3\\lib\\site-packages (from selenium) (0.9.2)\n",
      "Requirement already satisfied: trio~=0.17 in c:\\users\\root\\anaconda3\\lib\\site-packages (from selenium) (0.19.0)\n",
      "Requirement already satisfied: urllib3[secure]~=1.26 in c:\\users\\root\\anaconda3\\lib\\site-packages (from selenium) (1.26.7)\n",
      "Requirement already satisfied: cffi>=1.14 in c:\\users\\root\\anaconda3\\lib\\site-packages (from trio~=0.17->selenium) (1.14.6)\n",
      "Requirement already satisfied: attrs>=19.2.0 in c:\\users\\root\\anaconda3\\lib\\site-packages (from trio~=0.17->selenium) (21.2.0)\n",
      "Requirement already satisfied: idna in c:\\users\\root\\anaconda3\\lib\\site-packages (from trio~=0.17->selenium) (3.2)\n",
      "Requirement already satisfied: sortedcontainers in c:\\users\\root\\anaconda3\\lib\\site-packages (from trio~=0.17->selenium) (2.4.0)\n",
      "Requirement already satisfied: sniffio in c:\\users\\root\\anaconda3\\lib\\site-packages (from trio~=0.17->selenium) (1.2.0)\n",
      "Requirement already satisfied: async-generator>=1.9 in c:\\users\\root\\anaconda3\\lib\\site-packages (from trio~=0.17->selenium) (1.10)\n",
      "Requirement already satisfied: outcome in c:\\users\\root\\anaconda3\\lib\\site-packages (from trio~=0.17->selenium) (1.1.0)\n",
      "Requirement already satisfied: pycparser in c:\\users\\root\\anaconda3\\lib\\site-packages (from cffi>=1.14->trio~=0.17->selenium) (2.20)\n",
      "Requirement already satisfied: wsproto>=0.14 in c:\\users\\root\\anaconda3\\lib\\site-packages (from trio-websocket~=0.9->selenium) (1.0.0)\n",
      "Requirement already satisfied: pyOpenSSL>=0.14 in c:\\users\\root\\anaconda3\\lib\\site-packages (from urllib3[secure]~=1.26->selenium) (21.0.0)\n",
      "Requirement already satisfied: cryptography>=1.3.4 in c:\\users\\root\\anaconda3\\lib\\site-packages (from urllib3[secure]~=1.26->selenium) (3.4.8)\n",
      "Requirement already satisfied: certifi in c:\\users\\root\\anaconda3\\lib\\site-packages (from urllib3[secure]~=1.26->selenium) (2021.10.8)\n",
      "Requirement already satisfied: six>=1.5.2 in c:\\users\\root\\anaconda3\\lib\\site-packages (from pyOpenSSL>=0.14->urllib3[secure]~=1.26->selenium) (1.16.0)\n",
      "Requirement already satisfied: h11<1,>=0.9.0 in c:\\users\\root\\anaconda3\\lib\\site-packages (from wsproto>=0.14->trio-websocket~=0.9->selenium) (0.12.0)\n"
     ]
    }
   ],
   "source": [
    "#Instalación de la Libreria Selenium\n",
    "import sys\n",
    "!{sys.executable} -m pip install -U selenium"
   ]
  },
  {
   "cell_type": "code",
   "execution_count": 18,
   "id": "0ab74d64",
   "metadata": {},
   "outputs": [],
   "source": [
    "import zipfile\n",
    "import os\n",
    "import time\n",
    "from selenium import webdriver\n",
    "from selenium.webdriver.common.keys import Keys"
   ]
  },
  {
   "cell_type": "code",
   "execution_count": 41,
   "id": "7a135b8d",
   "metadata": {},
   "outputs": [
    {
     "name": "stderr",
     "output_type": "stream",
     "text": [
      "C:\\Users\\root\\AppData\\Local\\Temp/ipykernel_1364/1479542630.py:4: DeprecationWarning: executable_path has been deprecated, please pass in a Service object\n",
      "  driver = webdriver.Chrome(\"chromedriver.exe\",options=chromeOptions)\n",
      "C:\\Users\\root\\AppData\\Local\\Temp/ipykernel_1364/1479542630.py:9: DeprecationWarning: find_element_by_* commands are deprecated. Please use find_element() instead\n",
      "  desplegable_ccaa = driver.find_element_by_css_selector(string_ccaa)\n",
      "C:\\Users\\root\\AppData\\Local\\Temp/ipykernel_1364/1479542630.py:16: DeprecationWarning: find_element_by_* commands are deprecated. Please use find_element() instead\n",
      "  desplegable_prov = driver.find_element_by_css_selector(string_prov)\n",
      "C:\\Users\\root\\AppData\\Local\\Temp/ipykernel_1364/1479542630.py:22: DeprecationWarning: find_element_by_* commands are deprecated. Please use find_element() instead\n",
      "  add_estacion = driver.find_element_by_css_selector('input[name=\"ctl00$ContentPlaceHolder1$ButtonAgregar\"]')\n",
      "C:\\Users\\root\\AppData\\Local\\Temp/ipykernel_1364/1479542630.py:27: DeprecationWarning: find_element_by_* commands are deprecated. Please use find_element() instead\n",
      "  driver.find_element_by_id('txtFechaIni').clear() #Borra la fecha de inicio por defecto\n",
      "C:\\Users\\root\\AppData\\Local\\Temp/ipykernel_1364/1479542630.py:31: DeprecationWarning: find_element_by_* commands are deprecated. Please use find_element() instead\n",
      "  driver.find_element_by_id('txtFechaFin').clear() #Borra la fecha de Fin por defecto\n",
      "C:\\Users\\root\\AppData\\Local\\Temp/ipykernel_1364/1479542630.py:36: DeprecationWarning: find_element_by_* commands are deprecated. Please use find_element() instead\n",
      "  inputElement = driver.find_element_by_id(\"txtFechaIni\")\n",
      "C:\\Users\\root\\AppData\\Local\\Temp/ipykernel_1364/1479542630.py:41: DeprecationWarning: find_element_by_* commands are deprecated. Please use find_element() instead\n",
      "  inputElement = driver.find_element_by_id(\"txtFechaFin\")\n",
      "C:\\Users\\root\\AppData\\Local\\Temp/ipykernel_1364/1479542630.py:46: DeprecationWarning: find_element_by_* commands are deprecated. Please use find_element() instead\n",
      "  consultar_datos_buttom = driver.find_element_by_css_selector('input[name=\"ctl00$ContentPlaceHolder1$btnConsultar\"]')\n",
      "C:\\Users\\root\\AppData\\Local\\Temp/ipykernel_1364/1479542630.py:52: DeprecationWarning: find_element_by_* commands are deprecated. Please use find_element() instead\n",
      "  exportar_csv_link = driver.find_element_by_css_selector('a[id=\"ContentPlaceHolder1_ExportarCSV\"]')\n"
     ]
    }
   ],
   "source": [
    "chromeOptions = webdriver.ChromeOptions()\n",
    "#prefs = {\"download.default_directory\" : os.getcwd()+\"/Resultados Selenium\"} # Cambiamos la carpeta en la que se descargará el fichero\n",
    "#chromeOptions.add_experimental_option(\"prefs\",prefs)\n",
    "driver = webdriver.Chrome(\"chromedriver.exe\",options=chromeOptions)\n",
    "driver.get('https://eportal.mapa.gob.es/websiar/SeleccionParametrosMap.aspx?dst=1') # Web de la que queremos extraer datos\n",
    "\n",
    "\n",
    "string_ccaa = 'select[name=\"ctl00$ContentPlaceHolder1$DropDownListCCAA\"] option[value=\"8\"]'\n",
    "desplegable_ccaa = driver.find_element_by_css_selector(string_ccaa)\n",
    "click_despegable_ccaa = desplegable_ccaa.click()\n",
    "\n",
    "time.sleep(2)\n",
    "\n",
    "\n",
    "string_prov = 'select[name=\"ctl00$ContentPlaceHolder1$DropDownListProvincia\"] option[value=\"50\"]'\n",
    "desplegable_prov = driver.find_element_by_css_selector(string_prov)\n",
    "click_despegable_prov = desplegable_prov.click()\n",
    "\n",
    "\n",
    "time.sleep(2)\n",
    "\n",
    "add_estacion = driver.find_element_by_css_selector('input[name=\"ctl00$ContentPlaceHolder1$ButtonAgregar\"]')\n",
    "click_add_estacion = add_estacion.click()\n",
    "\n",
    "time.sleep(2)\n",
    "\n",
    "driver.find_element_by_id('txtFechaIni').clear() #Borra la fecha de inicio por defecto\n",
    "\n",
    "time.sleep(0.5)\n",
    "\n",
    "driver.find_element_by_id('txtFechaFin').clear() #Borra la fecha de Fin por defecto\n",
    "\n",
    "time.sleep(2)\n",
    "\n",
    "\n",
    "inputElement = driver.find_element_by_id(\"txtFechaIni\")\n",
    "inputElement.send_keys('10/11/2019') #Fecha de Inicio\n",
    "\n",
    "time.sleep(2)\n",
    "\n",
    "inputElement = driver.find_element_by_id(\"txtFechaFin\")\n",
    "inputElement.send_keys('15/11/2019') #Fecha de Fin\n",
    "\n",
    "time.sleep(2)\n",
    "\n",
    "consultar_datos_buttom = driver.find_element_by_css_selector('input[name=\"ctl00$ContentPlaceHolder1$btnConsultar\"]')\n",
    "consultar_datos = consultar_datos_buttom.click()\n",
    "\n",
    "time.sleep(2)\n",
    "\n",
    "driver.switch_to.window(driver.window_handles[1])\n",
    "exportar_csv_link = driver.find_element_by_css_selector('a[id=\"ContentPlaceHolder1_ExportarCSV\"]')\n",
    "descargar_csv = exportar_csv_link.click()\n",
    "\n",
    "\n",
    "time.sleep(4)\n",
    "\n",
    "driver.quit() #Cerrar el navegador\n",
    "\n",
    "\n",
    "zip_ref = zipfile.ZipFile('Resultados Selenium/InformeDatos.zip', 'r') # Carga el zip de salida guardado en \"Resultados Selenium\"\n",
    "zip_ref.extractall(\"Resultados Selenium/\") # Extrae el fichero csv del zip \n",
    "zip_ref.close()\n",
    "os.remove('Resultados Selenium/InformeDatos.zip') # Borra el archivo 'ImportarDatos.zip'\n"
   ]
  },
  {
   "cell_type": "code",
   "execution_count": null,
   "id": "99eea52d",
   "metadata": {},
   "outputs": [],
   "source": []
  }
 ],
 "metadata": {
  "kernelspec": {
   "display_name": "Python 3 (ipykernel)",
   "language": "python",
   "name": "python3"
  },
  "language_info": {
   "codemirror_mode": {
    "name": "ipython",
    "version": 3
   },
   "file_extension": ".py",
   "mimetype": "text/x-python",
   "name": "python",
   "nbconvert_exporter": "python",
   "pygments_lexer": "ipython3",
   "version": "3.9.7"
  }
 },
 "nbformat": 4,
 "nbformat_minor": 5
}
